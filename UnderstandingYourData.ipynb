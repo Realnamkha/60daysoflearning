{
 "cells": [
  {
   "cell_type": "code",
   "execution_count": 1,
   "id": "14520055",
   "metadata": {},
   "outputs": [],
   "source": [
    "import pandas as pd"
   ]
  },
  {
   "cell_type": "code",
   "execution_count": 2,
   "id": "8039dfcc",
   "metadata": {},
   "outputs": [],
   "source": [
    "df = pd.read_csv('train.csv')"
   ]
  },
  {
   "cell_type": "markdown",
   "id": "933a2499",
   "metadata": {},
   "source": [
    "# 7 Questions you should ask"
   ]
  },
  {
   "cell_type": "markdown",
   "id": "65cbd6b3",
   "metadata": {},
   "source": [
    "- 1. How big is the data? df.shape()\n",
    "- 2. How does the data look like? df.sample()\n",
    "- 3. What is the data type of cols? df.info()\n",
    "- 4. Are there any missing values? df.isnull().sum()\n",
    "- 5. How does the data look mathematically? df.describe()\n",
    "- 6. Are there duplicate values? df.duplicated().sum()\n",
    "- 7. How is the correlation between cols? df.corr()"
   ]
  },
  {
   "cell_type": "code",
   "execution_count": null,
   "id": "02b445e3",
   "metadata": {},
   "outputs": [],
   "source": []
  }
 ],
 "metadata": {
  "kernelspec": {
   "display_name": "Python 3 (ipykernel)",
   "language": "python",
   "name": "python3"
  },
  "language_info": {
   "codemirror_mode": {
    "name": "ipython",
    "version": 3
   },
   "file_extension": ".py",
   "mimetype": "text/x-python",
   "name": "python",
   "nbconvert_exporter": "python",
   "pygments_lexer": "ipython3",
   "version": "3.10.9"
  }
 },
 "nbformat": 4,
 "nbformat_minor": 5
}
